{
 "cells": [
  {
   "cell_type": "code",
   "execution_count": 1,
   "metadata": {
    "scrolled": true
   },
   "outputs": [
    {
     "name": "stdout",
     "output_type": "stream",
     "text": [
      "Requirement already satisfied: sklearn in /home/pamudi/pyspark/lib/python3.6/site-packages (0.0)\n",
      "Requirement already satisfied: scikit-learn in /home/pamudi/pyspark/lib/python3.6/site-packages (from sklearn) (0.23.2)\n",
      "Requirement already satisfied: numpy>=1.13.3 in /home/pamudi/pyspark/lib/python3.6/site-packages (from scikit-learn->sklearn) (1.19.2)\n",
      "Requirement already satisfied: scipy>=0.19.1 in /home/pamudi/pyspark/lib/python3.6/site-packages (from scikit-learn->sklearn) (1.5.2)\n",
      "Requirement already satisfied: threadpoolctl>=2.0.0 in /home/pamudi/pyspark/lib/python3.6/site-packages (from scikit-learn->sklearn) (2.1.0)\n",
      "Requirement already satisfied: joblib>=0.11 in /home/pamudi/pyspark/lib/python3.6/site-packages (from scikit-learn->sklearn) (0.16.0)\n",
      "Requirement already satisfied: seaborn in /home/pamudi/pyspark/lib/python3.6/site-packages (0.11.0)\n",
      "Requirement already satisfied: numpy>=1.15 in /home/pamudi/pyspark/lib/python3.6/site-packages (from seaborn) (1.19.2)\n",
      "Requirement already satisfied: matplotlib>=2.2 in /home/pamudi/pyspark/lib/python3.6/site-packages (from seaborn) (3.3.2)\n",
      "Requirement already satisfied: scipy>=1.0 in /home/pamudi/pyspark/lib/python3.6/site-packages (from seaborn) (1.5.2)\n",
      "Requirement already satisfied: pandas>=0.23 in /home/pamudi/pyspark/lib/python3.6/site-packages (from seaborn) (1.1.2)\n",
      "Requirement already satisfied: cycler>=0.10 in /home/pamudi/pyspark/lib/python3.6/site-packages (from matplotlib>=2.2->seaborn) (0.10.0)\n",
      "Requirement already satisfied: pyparsing!=2.0.4,!=2.1.2,!=2.1.6,>=2.0.3 in /home/pamudi/pyspark/lib/python3.6/site-packages (from matplotlib>=2.2->seaborn) (2.4.7)\n",
      "Requirement already satisfied: kiwisolver>=1.0.1 in /home/pamudi/pyspark/lib/python3.6/site-packages (from matplotlib>=2.2->seaborn) (1.2.0)\n",
      "Requirement already satisfied: python-dateutil>=2.1 in /home/pamudi/pyspark/lib/python3.6/site-packages (from matplotlib>=2.2->seaborn) (2.8.1)\n",
      "Requirement already satisfied: certifi>=2020.06.20 in /home/pamudi/pyspark/lib/python3.6/site-packages (from matplotlib>=2.2->seaborn) (2020.6.20)\n",
      "Requirement already satisfied: pillow>=6.2.0 in /home/pamudi/pyspark/lib/python3.6/site-packages (from matplotlib>=2.2->seaborn) (7.2.0)\n",
      "Requirement already satisfied: pytz>=2017.2 in /home/pamudi/pyspark/lib/python3.6/site-packages (from pandas>=0.23->seaborn) (2020.1)\n",
      "Requirement already satisfied: six in /home/pamudi/pyspark/lib/python3.6/site-packages (from cycler>=0.10->matplotlib>=2.2->seaborn) (1.15.0)\n",
      "Requirement already satisfied: xgboost in /home/pamudi/pyspark/lib/python3.6/site-packages (1.2.0)\n",
      "Requirement already satisfied: numpy in /home/pamudi/pyspark/lib/python3.6/site-packages (from xgboost) (1.19.2)\n",
      "Requirement already satisfied: scipy in /home/pamudi/pyspark/lib/python3.6/site-packages (from xgboost) (1.5.2)\n"
     ]
    }
   ],
   "source": [
    "# install packages\n",
    "!python -m pip install sklearn\n",
    "!python -m pip install seaborn\n",
    "!python -m pip install xgboost"
   ]
  },
  {
   "cell_type": "code",
   "execution_count": 2,
   "metadata": {},
   "outputs": [],
   "source": [
    "# import libraries\n",
    "import pandas as pd\n",
    "from sklearn.model_selection import train_test_split\n",
    "from sklearn.linear_model import LogisticRegression\n",
    "from sklearn.preprocessing import StandardScaler\n",
    "from sklearn.ensemble import RandomForestClassifier, GradientBoostingClassifier\n",
    "from sklearn import metrics\n",
    "import seaborn as sns\n",
    "import matplotlib.pyplot as plt\n",
    "from xgboost import XGBClassifier"
   ]
  },
  {
   "cell_type": "code",
   "execution_count": 3,
   "metadata": {},
   "outputs": [],
   "source": [
    "# load the dataset\n",
    "df = pd.read_csv(\"data/filetered_churn_data.csv\", index_col=0)"
   ]
  },
  {
   "cell_type": "code",
   "execution_count": 4,
   "metadata": {},
   "outputs": [
    {
     "data": {
      "text/html": [
       "<div>\n",
       "<style scoped>\n",
       "    .dataframe tbody tr th:only-of-type {\n",
       "        vertical-align: middle;\n",
       "    }\n",
       "\n",
       "    .dataframe tbody tr th {\n",
       "        vertical-align: top;\n",
       "    }\n",
       "\n",
       "    .dataframe thead th {\n",
       "        text-align: right;\n",
       "    }\n",
       "</style>\n",
       "<table border=\"1\" class=\"dataframe\">\n",
       "  <thead>\n",
       "    <tr style=\"text-align: right;\">\n",
       "      <th></th>\n",
       "      <th>passengerid</th>\n",
       "      <th>total_trip_count</th>\n",
       "      <th>sum_delay</th>\n",
       "      <th>sum_distance</th>\n",
       "      <th>sum_fare</th>\n",
       "      <th>sum_discount</th>\n",
       "      <th>sum_trip_fare</th>\n",
       "      <th>churn</th>\n",
       "      <th>august_trip_count</th>\n",
       "      <th>july_trip_count</th>\n",
       "      <th>june_trip_count</th>\n",
       "    </tr>\n",
       "  </thead>\n",
       "  <tbody>\n",
       "    <tr>\n",
       "      <th>0</th>\n",
       "      <td>100010</td>\n",
       "      <td>28</td>\n",
       "      <td>279.58</td>\n",
       "      <td>205.86</td>\n",
       "      <td>10264.76</td>\n",
       "      <td>0.0</td>\n",
       "      <td>10264.76</td>\n",
       "      <td>No</td>\n",
       "      <td>13</td>\n",
       "      <td>9</td>\n",
       "      <td>6</td>\n",
       "    </tr>\n",
       "    <tr>\n",
       "      <th>1</th>\n",
       "      <td>100140</td>\n",
       "      <td>2</td>\n",
       "      <td>8.88</td>\n",
       "      <td>6.68</td>\n",
       "      <td>315.55</td>\n",
       "      <td>0.0</td>\n",
       "      <td>315.55</td>\n",
       "      <td>Yes</td>\n",
       "      <td>0</td>\n",
       "      <td>2</td>\n",
       "      <td>0</td>\n",
       "    </tr>\n",
       "    <tr>\n",
       "      <th>2</th>\n",
       "      <td>100227</td>\n",
       "      <td>5</td>\n",
       "      <td>30.77</td>\n",
       "      <td>29.29</td>\n",
       "      <td>1187.39</td>\n",
       "      <td>150.0</td>\n",
       "      <td>1037.37</td>\n",
       "      <td>Yes</td>\n",
       "      <td>0</td>\n",
       "      <td>3</td>\n",
       "      <td>2</td>\n",
       "    </tr>\n",
       "    <tr>\n",
       "      <th>3</th>\n",
       "      <td>100263</td>\n",
       "      <td>2</td>\n",
       "      <td>0.58</td>\n",
       "      <td>1.34</td>\n",
       "      <td>113.82</td>\n",
       "      <td>0.0</td>\n",
       "      <td>113.82</td>\n",
       "      <td>Yes</td>\n",
       "      <td>0</td>\n",
       "      <td>1</td>\n",
       "      <td>1</td>\n",
       "    </tr>\n",
       "    <tr>\n",
       "      <th>4</th>\n",
       "      <td>100553</td>\n",
       "      <td>1</td>\n",
       "      <td>8.72</td>\n",
       "      <td>8.23</td>\n",
       "      <td>314.81</td>\n",
       "      <td>0.0</td>\n",
       "      <td>314.81</td>\n",
       "      <td>Yes</td>\n",
       "      <td>0</td>\n",
       "      <td>0</td>\n",
       "      <td>1</td>\n",
       "    </tr>\n",
       "  </tbody>\n",
       "</table>\n",
       "</div>"
      ],
      "text/plain": [
       "   passengerid  total_trip_count  sum_delay  sum_distance  sum_fare  \\\n",
       "0       100010                28     279.58        205.86  10264.76   \n",
       "1       100140                 2       8.88          6.68    315.55   \n",
       "2       100227                 5      30.77         29.29   1187.39   \n",
       "3       100263                 2       0.58          1.34    113.82   \n",
       "4       100553                 1       8.72          8.23    314.81   \n",
       "\n",
       "   sum_discount  sum_trip_fare churn  august_trip_count  july_trip_count  \\\n",
       "0           0.0       10264.76    No                 13                9   \n",
       "1           0.0         315.55   Yes                  0                2   \n",
       "2         150.0        1037.37   Yes                  0                3   \n",
       "3           0.0         113.82   Yes                  0                1   \n",
       "4           0.0         314.81   Yes                  0                0   \n",
       "\n",
       "   june_trip_count  \n",
       "0                6  \n",
       "1                0  \n",
       "2                2  \n",
       "3                1  \n",
       "4                1  "
      ]
     },
     "execution_count": 4,
     "metadata": {},
     "output_type": "execute_result"
    }
   ],
   "source": [
    "# check data\n",
    "df.head()"
   ]
  },
  {
   "cell_type": "code",
   "execution_count": 5,
   "metadata": {},
   "outputs": [
    {
     "data": {
      "text/plain": [
       "(409353, 11)"
      ]
     },
     "execution_count": 5,
     "metadata": {},
     "output_type": "execute_result"
    }
   ],
   "source": [
    "# number of rows and columns\n",
    "df.shape"
   ]
  },
  {
   "cell_type": "code",
   "execution_count": 6,
   "metadata": {},
   "outputs": [
    {
     "data": {
      "text/plain": [
       "passengerid            int64\n",
       "total_trip_count       int64\n",
       "sum_delay            float64\n",
       "sum_distance         float64\n",
       "sum_fare             float64\n",
       "sum_discount         float64\n",
       "sum_trip_fare        float64\n",
       "churn                 object\n",
       "august_trip_count      int64\n",
       "july_trip_count        int64\n",
       "june_trip_count        int64\n",
       "dtype: object"
      ]
     },
     "execution_count": 6,
     "metadata": {},
     "output_type": "execute_result"
    }
   ],
   "source": [
    "# data types of columns\n",
    "df.dtypes"
   ]
  },
  {
   "cell_type": "code",
   "execution_count": 7,
   "metadata": {},
   "outputs": [
    {
     "name": "stdout",
     "output_type": "stream",
     "text": [
      "(0, 11)\n",
      "(80664, 11)\n",
      "(249243, 11)\n"
     ]
    }
   ],
   "source": [
    "# check data\n",
    "print(df[(df[\"august_trip_count\"] == 0) & (df[\"july_trip_count\"] == 0) & (df[\"june_trip_count\"] == 0)].shape)\n",
    "print(df[(df[\"august_trip_count\"] == 0) & (df[\"july_trip_count\"] == 0)].shape)\n",
    "print(df[df[\"august_trip_count\"] == 0].shape)"
   ]
  },
  {
   "cell_type": "code",
   "execution_count": 8,
   "metadata": {},
   "outputs": [
    {
     "data": {
      "image/png": "[encoded data removed]",
      "text/plain": [
       "<Figure size 432x288 with 2 Axes>"
      ]
     },
     "metadata": {
      "needs_background": "light"
     },
     "output_type": "display_data"
    }
   ],
   "source": [
    "# correlation matrix\n",
    "df_corr = df[[\"total_trip_count\", \"sum_delay\", \"sum_distance\", \"sum_fare\", \"sum_discount\", \n",
    "              \"sum_trip_fare\", \"august_trip_count\", \"july_trip_count\", \"june_trip_count\"]]\n",
    "sns.heatmap(df_corr.corr(method='pearson'), annot=True)\n",
    "plt.show()"
   ]
  },
  {
   "cell_type": "markdown",
   "metadata": {},
   "source": [
    "### Data formatting"
   ]
  },
  {
   "cell_type": "code",
   "execution_count": 9,
   "metadata": {},
   "outputs": [],
   "source": [
    "# convert a churn variable as category \n",
    "df[\"churn\"] = df[\"churn\"].astype('category')\n",
    "df[\"churn\"] = df[\"churn\"].cat.codes"
   ]
  },
  {
   "cell_type": "code",
   "execution_count": 10,
   "metadata": {},
   "outputs": [
    {
     "data": {
      "text/plain": [
       "passengerid            int64\n",
       "total_trip_count       int64\n",
       "sum_delay            float64\n",
       "sum_distance         float64\n",
       "sum_fare             float64\n",
       "sum_discount         float64\n",
       "sum_trip_fare        float64\n",
       "churn                   int8\n",
       "august_trip_count      int64\n",
       "july_trip_count        int64\n",
       "june_trip_count        int64\n",
       "dtype: object"
      ]
     },
     "execution_count": 10,
     "metadata": {},
     "output_type": "execute_result"
    }
   ],
   "source": [
    "# check data types of columns\n",
    "df.dtypes"
   ]
  },
  {
   "cell_type": "code",
   "execution_count": 11,
   "metadata": {},
   "outputs": [],
   "source": [
    "# define dependant and independant variables (the total_trip_count variable is removed because its coefficient)\n",
    "X = df.drop([\"passengerid\", \"total_trip_count\", \"august_trip_count\", \"churn\"], axis=1)\n",
    "y = df[\"churn\"].values"
   ]
  },
  {
   "cell_type": "code",
   "execution_count": 12,
   "metadata": {},
   "outputs": [
    {
     "data": {
      "text/html": [
       "<div>\n",
       "<style scoped>\n",
       "    .dataframe tbody tr th:only-of-type {\n",
       "        vertical-align: middle;\n",
       "    }\n",
       "\n",
       "    .dataframe tbody tr th {\n",
       "        vertical-align: top;\n",
       "    }\n",
       "\n",
       "    .dataframe thead th {\n",
       "        text-align: right;\n",
       "    }\n",
       "</style>\n",
       "<table border=\"1\" class=\"dataframe\">\n",
       "  <thead>\n",
       "    <tr style=\"text-align: right;\">\n",
       "      <th></th>\n",
       "      <th>sum_delay</th>\n",
       "      <th>sum_distance</th>\n",
       "      <th>sum_fare</th>\n",
       "      <th>sum_discount</th>\n",
       "      <th>sum_trip_fare</th>\n",
       "      <th>july_trip_count</th>\n",
       "      <th>june_trip_count</th>\n",
       "    </tr>\n",
       "  </thead>\n",
       "  <tbody>\n",
       "    <tr>\n",
       "      <th>0</th>\n",
       "      <td>279.58</td>\n",
       "      <td>205.86</td>\n",
       "      <td>10264.76</td>\n",
       "      <td>0.0</td>\n",
       "      <td>10264.76</td>\n",
       "      <td>9</td>\n",
       "      <td>6</td>\n",
       "    </tr>\n",
       "    <tr>\n",
       "      <th>1</th>\n",
       "      <td>8.88</td>\n",
       "      <td>6.68</td>\n",
       "      <td>315.55</td>\n",
       "      <td>0.0</td>\n",
       "      <td>315.55</td>\n",
       "      <td>2</td>\n",
       "      <td>0</td>\n",
       "    </tr>\n",
       "    <tr>\n",
       "      <th>2</th>\n",
       "      <td>30.77</td>\n",
       "      <td>29.29</td>\n",
       "      <td>1187.39</td>\n",
       "      <td>150.0</td>\n",
       "      <td>1037.37</td>\n",
       "      <td>3</td>\n",
       "      <td>2</td>\n",
       "    </tr>\n",
       "    <tr>\n",
       "      <th>3</th>\n",
       "      <td>0.58</td>\n",
       "      <td>1.34</td>\n",
       "      <td>113.82</td>\n",
       "      <td>0.0</td>\n",
       "      <td>113.82</td>\n",
       "      <td>1</td>\n",
       "      <td>1</td>\n",
       "    </tr>\n",
       "    <tr>\n",
       "      <th>4</th>\n",
       "      <td>8.72</td>\n",
       "      <td>8.23</td>\n",
       "      <td>314.81</td>\n",
       "      <td>0.0</td>\n",
       "      <td>314.81</td>\n",
       "      <td>0</td>\n",
       "      <td>1</td>\n",
       "    </tr>\n",
       "  </tbody>\n",
       "</table>\n",
       "</div>"
      ],
      "text/plain": [
       "   sum_delay  sum_distance  sum_fare  sum_discount  sum_trip_fare  \\\n",
       "0     279.58        205.86  10264.76           0.0       10264.76   \n",
       "1       8.88          6.68    315.55           0.0         315.55   \n",
       "2      30.77         29.29   1187.39         150.0        1037.37   \n",
       "3       0.58          1.34    113.82           0.0         113.82   \n",
       "4       8.72          8.23    314.81           0.0         314.81   \n",
       "\n",
       "   july_trip_count  june_trip_count  \n",
       "0                9                6  \n",
       "1                2                0  \n",
       "2                3                2  \n",
       "3                1                1  \n",
       "4                0                1  "
      ]
     },
     "execution_count": 12,
     "metadata": {},
     "output_type": "execute_result"
    }
   ],
   "source": [
    "# check independant variables\n",
    "X.head()"
   ]
  },
  {
   "cell_type": "code",
   "execution_count": 13,
   "metadata": {},
   "outputs": [
    {
     "data": {
      "text/plain": [
       "array([0, 1, 1, ..., 1, 0, 0], dtype=int8)"
      ]
     },
     "execution_count": 13,
     "metadata": {},
     "output_type": "execute_result"
    }
   ],
   "source": [
    "# check y\n",
    "y"
   ]
  },
  {
   "cell_type": "code",
   "execution_count": 14,
   "metadata": {},
   "outputs": [],
   "source": [
    "# perform scaler transform of the data\n",
    "scaler = StandardScaler()\n",
    "X = scaler.fit_transform(X)\n",
    "# convert the array back to a dataframe\n",
    "X = pd.DataFrame(X)\n",
    "X.columns = [\"sum_delay\", \"sum_distance\", \"sum_fare\", \"sum_discount\", \"sum_trip_fare\", \n",
    "            \"july_trip_count\", \"june_trip_count\"]"
   ]
  },
  {
   "cell_type": "code",
   "execution_count": 15,
   "metadata": {},
   "outputs": [
    {
     "data": {
      "text/html": [
       "<div>\n",
       "<style scoped>\n",
       "    .dataframe tbody tr th:only-of-type {\n",
       "        vertical-align: middle;\n",
       "    }\n",
       "\n",
       "    .dataframe tbody tr th {\n",
       "        vertical-align: top;\n",
       "    }\n",
       "\n",
       "    .dataframe thead th {\n",
       "        text-align: right;\n",
       "    }\n",
       "</style>\n",
       "<table border=\"1\" class=\"dataframe\">\n",
       "  <thead>\n",
       "    <tr style=\"text-align: right;\">\n",
       "      <th></th>\n",
       "      <th>sum_delay</th>\n",
       "      <th>sum_distance</th>\n",
       "      <th>sum_fare</th>\n",
       "      <th>sum_discount</th>\n",
       "      <th>sum_trip_fare</th>\n",
       "      <th>july_trip_count</th>\n",
       "      <th>june_trip_count</th>\n",
       "    </tr>\n",
       "  </thead>\n",
       "  <tbody>\n",
       "    <tr>\n",
       "      <th>0</th>\n",
       "      <td>1.327936</td>\n",
       "      <td>0.851719</td>\n",
       "      <td>-0.005194</td>\n",
       "      <td>-0.002174</td>\n",
       "      <td>-0.004841</td>\n",
       "      <td>0.945999</td>\n",
       "      <td>0.463194</td>\n",
       "    </tr>\n",
       "    <tr>\n",
       "      <th>1</th>\n",
       "      <td>-0.346430</td>\n",
       "      <td>-0.378228</td>\n",
       "      <td>-0.007735</td>\n",
       "      <td>-0.002174</td>\n",
       "      <td>-0.007442</td>\n",
       "      <td>-0.222563</td>\n",
       "      <td>-0.546582</td>\n",
       "    </tr>\n",
       "    <tr>\n",
       "      <th>2</th>\n",
       "      <td>-0.211033</td>\n",
       "      <td>-0.238610</td>\n",
       "      <td>-0.007512</td>\n",
       "      <td>-0.001995</td>\n",
       "      <td>-0.007253</td>\n",
       "      <td>-0.055626</td>\n",
       "      <td>-0.209990</td>\n",
       "    </tr>\n",
       "    <tr>\n",
       "      <th>3</th>\n",
       "      <td>-0.397768</td>\n",
       "      <td>-0.411202</td>\n",
       "      <td>-0.007786</td>\n",
       "      <td>-0.002174</td>\n",
       "      <td>-0.007495</td>\n",
       "      <td>-0.389501</td>\n",
       "      <td>-0.378286</td>\n",
       "    </tr>\n",
       "    <tr>\n",
       "      <th>4</th>\n",
       "      <td>-0.347420</td>\n",
       "      <td>-0.368656</td>\n",
       "      <td>-0.007735</td>\n",
       "      <td>-0.002174</td>\n",
       "      <td>-0.007442</td>\n",
       "      <td>-0.556438</td>\n",
       "      <td>-0.378286</td>\n",
       "    </tr>\n",
       "  </tbody>\n",
       "</table>\n",
       "</div>"
      ],
      "text/plain": [
       "   sum_delay  sum_distance  sum_fare  sum_discount  sum_trip_fare  \\\n",
       "0   1.327936      0.851719 -0.005194     -0.002174      -0.004841   \n",
       "1  -0.346430     -0.378228 -0.007735     -0.002174      -0.007442   \n",
       "2  -0.211033     -0.238610 -0.007512     -0.001995      -0.007253   \n",
       "3  -0.397768     -0.411202 -0.007786     -0.002174      -0.007495   \n",
       "4  -0.347420     -0.368656 -0.007735     -0.002174      -0.007442   \n",
       "\n",
       "   july_trip_count  june_trip_count  \n",
       "0         0.945999         0.463194  \n",
       "1        -0.222563        -0.546582  \n",
       "2        -0.055626        -0.209990  \n",
       "3        -0.389501        -0.378286  \n",
       "4        -0.556438        -0.378286  "
      ]
     },
     "execution_count": 15,
     "metadata": {},
     "output_type": "execute_result"
    }
   ],
   "source": [
    "# check data after scaler transform\n",
    "X.head()"
   ]
  },
  {
   "cell_type": "markdown",
   "metadata": {},
   "source": [
    "### Model building"
   ]
  },
  {
   "cell_type": "code",
   "execution_count": 16,
   "metadata": {},
   "outputs": [],
   "source": [
    "# test train split\n",
    "X_train, X_test, y_train, y_test = train_test_split(X, y, test_size=0.2, random_state=0)"
   ]
  },
  {
   "cell_type": "code",
   "execution_count": 17,
   "metadata": {},
   "outputs": [
    {
     "name": "stdout",
     "output_type": "stream",
     "text": [
      "Accuracy: 0.71\n"
     ]
    }
   ],
   "source": [
    "# training and predicting - logistic regression\n",
    "logistic_reg = LogisticRegression()\n",
    "logistic_reg.fit(X_train,y_train)\n",
    "y_pred = logistic_reg.predict(X_test)\n",
    "\n",
    "# model accuracy\n",
    "print(\"Accuracy:\", round(metrics.accuracy_score(y_test, y_pred),2))"
   ]
  },
  {
   "cell_type": "code",
   "execution_count": 18,
   "metadata": {},
   "outputs": [
    {
     "name": "stdout",
     "output_type": "stream",
     "text": [
      "Accuracy: 0.82\n"
     ]
    }
   ],
   "source": [
    "# training and predicting - random forest\n",
    "rf_clf = RandomForestClassifier(n_estimators=100, random_state=0)\n",
    "rf_clf.fit(X_train,y_train)\n",
    "y_pred = rf_clf.predict(X_test)\n",
    "\n",
    "# model accuracy\n",
    "print(\"Accuracy:\", round(metrics.accuracy_score(y_test, y_pred),2))"
   ]
  },
  {
   "cell_type": "code",
   "execution_count": 19,
   "metadata": {},
   "outputs": [
    {
     "name": "stdout",
     "output_type": "stream",
     "text": [
      "Accuracy: 0.81\n"
     ]
    }
   ],
   "source": [
    "# training and predicting - gradient boosting\n",
    "gb_clf = GradientBoostingClassifier(n_estimators=100, random_state=0)\n",
    "gb_clf.fit(X_train,y_train)\n",
    "y_pred = gb_clf.predict(X_test)\n",
    "\n",
    "# model accuracy\n",
    "print(\"Accuracy:\", round(metrics.accuracy_score(y_test, y_pred),2))"
   ]
  },
  {
   "cell_type": "code",
   "execution_count": 20,
   "metadata": {},
   "outputs": [
    {
     "name": "stdout",
     "output_type": "stream",
     "text": [
      "Accuracy: 0.83\n"
     ]
    }
   ],
   "source": [
    "# training and predicting - xgboost\n",
    "xgb_clf = XGBClassifier(random_state=0)\n",
    "xgb_clf.fit(X_train,y_train)\n",
    "y_pred = xgb_clf.predict(X_test)\n",
    "\n",
    "# model accuracy\n",
    "print(\"Accuracy:\", round(metrics.accuracy_score(y_test, y_pred),2))"
   ]
  },
  {
   "cell_type": "markdown",
   "metadata": {},
   "source": [
    "### Findings\n",
    "####  * After comparing the above models on the accuracy, the xgboost model performs better than the other models.  \n",
    "\n",
    "### Further work\n",
    "#### * Parameter tuning can be performed for the XGBClassifier to increase its performance. "
   ]
  }
 ],
 "metadata": {
  "kernelspec": {
   "display_name": "Python 3",
   "language": "python",
   "name": "python3"
  },
  "language_info": {
   "codemirror_mode": {
    "name": "ipython",
    "version": 3
   },
   "file_extension": ".py",
   "mimetype": "text/x-python",
   "name": "python",
   "nbconvert_exporter": "python",
   "pygments_lexer": "ipython3",
   "version": "3.6.9"
  }
 },
 "nbformat": 4,
 "nbformat_minor": 4
}
