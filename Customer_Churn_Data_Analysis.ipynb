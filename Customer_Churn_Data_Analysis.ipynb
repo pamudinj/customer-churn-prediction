{
 "cells": [
  {
   "cell_type": "code",
   "execution_count": 1,
   "metadata": {},
   "outputs": [
    {
     "name": "stdout",
     "output_type": "stream",
     "text": [
      "Requirement already satisfied: matplotlib in /home/pamudi/pyspark/lib/python3.6/site-packages (3.3.2)\n",
      "Requirement already satisfied: pillow>=6.2.0 in /home/pamudi/pyspark/lib/python3.6/site-packages (from matplotlib) (7.2.0)\n",
      "Requirement already satisfied: pyparsing!=2.0.4,!=2.1.2,!=2.1.6,>=2.0.3 in /home/pamudi/pyspark/lib/python3.6/site-packages (from matplotlib) (2.4.7)\n",
      "Requirement already satisfied: python-dateutil>=2.1 in /home/pamudi/pyspark/lib/python3.6/site-packages (from matplotlib) (2.8.1)\n",
      "Requirement already satisfied: cycler>=0.10 in /home/pamudi/pyspark/lib/python3.6/site-packages (from matplotlib) (0.10.0)\n",
      "Requirement already satisfied: certifi>=2020.06.20 in /home/pamudi/pyspark/lib/python3.6/site-packages (from matplotlib) (2020.6.20)\n",
      "Requirement already satisfied: numpy>=1.15 in /home/pamudi/pyspark/lib/python3.6/site-packages (from matplotlib) (1.19.2)\n",
      "Requirement already satisfied: kiwisolver>=1.0.1 in /home/pamudi/pyspark/lib/python3.6/site-packages (from matplotlib) (1.2.0)\n",
      "Requirement already satisfied: six>=1.5 in /home/pamudi/pyspark/lib/python3.6/site-packages (from python-dateutil>=2.1->matplotlib) (1.15.0)\n",
      "Requirement already satisfied: pandas in /home/pamudi/pyspark/lib/python3.6/site-packages (1.1.2)\n",
      "Requirement already satisfied: python-dateutil>=2.7.3 in /home/pamudi/pyspark/lib/python3.6/site-packages (from pandas) (2.8.1)\n",
      "Requirement already satisfied: numpy>=1.15.4 in /home/pamudi/pyspark/lib/python3.6/site-packages (from pandas) (1.19.2)\n",
      "Requirement already satisfied: pytz>=2017.2 in /home/pamudi/pyspark/lib/python3.6/site-packages (from pandas) (2020.1)\n",
      "Requirement already satisfied: six>=1.5 in /home/pamudi/pyspark/lib/python3.6/site-packages (from python-dateutil>=2.7.3->pandas) (1.15.0)\n"
     ]
    }
   ],
   "source": [
    "# install packages\n",
    "!python -m pip install matplotlib\n",
    "!python -m pip install pandas"
   ]
  },
  {
   "cell_type": "code",
   "execution_count": 2,
   "metadata": {},
   "outputs": [],
   "source": [
    "# import libraries\n",
    "from pyspark.sql import SparkSession\n",
    "from pyspark.sql.functions import when, count, col, desc, countDistinct, year, month, avg, lit, round\n",
    "from pyspark.sql.types import IntegerType, DoubleType\n",
    "import datetime\n",
    "import pandas as pd\n",
    "import matplotlib.pyplot as plt"
   ]
  },
  {
   "cell_type": "code",
   "execution_count": 3,
   "metadata": {},
   "outputs": [],
   "source": [
    "# create a Spark session\n",
    "spark = SparkSession.builder.appName(\"customer_churn\").getOrCreate()"
   ]
  },
  {
   "cell_type": "markdown",
   "metadata": {},
   "source": [
    "### Data Preprocessing"
   ]
  },
  {
   "cell_type": "code",
   "execution_count": 4,
   "metadata": {},
   "outputs": [],
   "source": [
    "# load the dataset\n",
    "df = spark.read.csv(\"data/DS_CaseStudy_Churn_Pred_Data.csv\", header=True)"
   ]
  },
  {
   "cell_type": "code",
   "execution_count": 5,
   "metadata": {},
   "outputs": [
    {
     "name": "stdout",
     "output_type": "stream",
     "text": [
      "root\n",
      " |-- delay: string (nullable = true)\n",
      " |-- created_date: string (nullable = true)\n",
      " |-- pickup_date: string (nullable = true)\n",
      " |-- distance: string (nullable = true)\n",
      " |-- driver_rating: string (nullable = true)\n",
      " |-- fare: string (nullable = true)\n",
      " |-- discount: string (nullable = true)\n",
      " |-- payment_method: string (nullable = true)\n",
      " |-- promocode: string (nullable = true)\n",
      " |-- taximodelid: string (nullable = true)\n",
      " |-- travel_status: string (nullable = true)\n",
      " |-- trip_fare: string (nullable = true)\n",
      " |-- profile_created: string (nullable = true)\n",
      " |-- status_description: string (nullable = true)\n",
      " |-- pre_booked: string (nullable = true)\n",
      " |-- passengerid: string (nullable = true)\n",
      " |-- tripid: string (nullable = true)\n",
      "\n"
     ]
    }
   ],
   "source": [
    "# columns in dataset\n",
    "df.printSchema()"
   ]
  },
  {
   "cell_type": "code",
   "execution_count": 6,
   "metadata": {},
   "outputs": [
    {
     "data": {
      "text/plain": [
       "9004901"
      ]
     },
     "execution_count": 6,
     "metadata": {},
     "output_type": "execute_result"
    }
   ],
   "source": [
    "# number of rows\n",
    "df.count()"
   ]
  },
  {
   "cell_type": "code",
   "execution_count": 7,
   "metadata": {},
   "outputs": [
    {
     "name": "stdout",
     "output_type": "stream",
     "text": [
      "+-----+------------+-----------+--------+-------------+------+--------+--------------+---------+-----------+-------------+---------+---------------+------------------+----------+-----------+-------+\n",
      "|delay|created_date|pickup_date|distance|driver_rating|  fare|discount|payment_method|promocode|taximodelid|travel_status|trip_fare|profile_created|status_description|pre_booked|passengerid| tripid|\n",
      "+-----+------------+-----------+--------+-------------+------+--------+--------------+---------+-----------+-------------+---------+---------------+------------------+----------+-----------+-------+\n",
      "| null|    20190809|       null|    null|         null|  null|    null|           1.0|     null|          1|           12|     null|       20170223|       Unavailable|         0|     107206|7542464|\n",
      "| 8.38|    20190701| 20190701.0|   16.49|         null|676.13|     0.0|           1.0|     null|          1|            1|   676.13|       20180201|         Completed|         0|     123034|6044316|\n",
      "|16.45|    20190830| 20190830.0|   14.39|         null|836.63|     0.0|           1.0|     null|          2|            1|   836.63|       20180905|         Completed|         0|     201136|1959290|\n",
      "| null|    20190709|       null|    null|         null|  null|    null|           1.0|    lpp42|          1|           12|     null|       20180113|       Unavailable|         0|     403293|1250879|\n",
      "| null|    20190718|       null|    null|         null|  null|    null|           1.0|     abac|          4|           12|     null|       20190702|       Unavailable|         0|     448530| 884375|\n",
      "+-----+------------+-----------+--------+-------------+------+--------+--------------+---------+-----------+-------------+---------+---------------+------------------+----------+-----------+-------+\n",
      "only showing top 5 rows\n",
      "\n"
     ]
    }
   ],
   "source": [
    "# check data\n",
    "df.show(5)"
   ]
  },
  {
   "cell_type": "code",
   "execution_count": 8,
   "metadata": {},
   "outputs": [
    {
     "data": {
      "text/html": [
       "<div>\n",
       "<style scoped>\n",
       "    .dataframe tbody tr th:only-of-type {\n",
       "        vertical-align: middle;\n",
       "    }\n",
       "\n",
       "    .dataframe tbody tr th {\n",
       "        vertical-align: top;\n",
       "    }\n",
       "\n",
       "    .dataframe thead th {\n",
       "        text-align: right;\n",
       "    }\n",
       "</style>\n",
       "<table border=\"1\" class=\"dataframe\">\n",
       "  <thead>\n",
       "    <tr style=\"text-align: right;\">\n",
       "      <th></th>\n",
       "      <th>delay</th>\n",
       "      <th>created_date</th>\n",
       "      <th>pickup_date</th>\n",
       "      <th>distance</th>\n",
       "      <th>driver_rating</th>\n",
       "      <th>fare</th>\n",
       "      <th>discount</th>\n",
       "      <th>payment_method</th>\n",
       "      <th>promocode</th>\n",
       "      <th>taximodelid</th>\n",
       "      <th>travel_status</th>\n",
       "      <th>trip_fare</th>\n",
       "      <th>profile_created</th>\n",
       "      <th>status_description</th>\n",
       "      <th>pre_booked</th>\n",
       "      <th>passengerid</th>\n",
       "      <th>tripid</th>\n",
       "    </tr>\n",
       "  </thead>\n",
       "  <tbody>\n",
       "    <tr>\n",
       "      <th>0</th>\n",
       "      <td>5077799</td>\n",
       "      <td>0</td>\n",
       "      <td>5077799</td>\n",
       "      <td>5081668</td>\n",
       "      <td>9004901</td>\n",
       "      <td>5081668</td>\n",
       "      <td>5081668</td>\n",
       "      <td>7</td>\n",
       "      <td>7063769</td>\n",
       "      <td>0</td>\n",
       "      <td>0</td>\n",
       "      <td>5081668</td>\n",
       "      <td>0</td>\n",
       "      <td>0</td>\n",
       "      <td>0</td>\n",
       "      <td>0</td>\n",
       "      <td>0</td>\n",
       "    </tr>\n",
       "  </tbody>\n",
       "</table>\n",
       "</div>"
      ],
      "text/plain": [
       "     delay  created_date  pickup_date  distance  driver_rating     fare  \\\n",
       "0  5077799             0      5077799   5081668        9004901  5081668   \n",
       "\n",
       "   discount  payment_method  promocode  taximodelid  travel_status  trip_fare  \\\n",
       "0   5081668               7    7063769            0              0    5081668   \n",
       "\n",
       "   profile_created  status_description  pre_booked  passengerid  tripid  \n",
       "0                0                   0           0            0       0  "
      ]
     },
     "execution_count": 8,
     "metadata": {},
     "output_type": "execute_result"
    }
   ],
   "source": [
    "# check for na or missing data\n",
    "df.select([count(when(col(c).isNull(), c)).alias(c) for c in df.columns]).toPandas().head()"
   ]
  },
  {
   "cell_type": "code",
   "execution_count": 9,
   "metadata": {},
   "outputs": [],
   "source": [
    "# remove unwanted colums because those columns have more null values\n",
    "columns_to_drop = [\"driver_rating\", \"promocode\"]\n",
    "df = df.drop(*columns_to_drop)"
   ]
  },
  {
   "cell_type": "code",
   "execution_count": 10,
   "metadata": {},
   "outputs": [
    {
     "data": {
      "text/plain": [
       "518744"
      ]
     },
     "execution_count": 10,
     "metadata": {},
     "output_type": "execute_result"
    }
   ],
   "source": [
    "# check unique count of passenger ids\n",
    "df.select(\"passengerid\").distinct().count()"
   ]
  },
  {
   "cell_type": "code",
   "execution_count": 11,
   "metadata": {},
   "outputs": [
    {
     "data": {
      "text/plain": [
       "9004901"
      ]
     },
     "execution_count": 11,
     "metadata": {},
     "output_type": "execute_result"
    }
   ],
   "source": [
    "# check unique count of trip ids - to check same trip id for different customers\n",
    "df.select(\"tripid\").distinct().count()"
   ]
  },
  {
   "cell_type": "code",
   "execution_count": 12,
   "metadata": {},
   "outputs": [
    {
     "name": "stdout",
     "output_type": "stream",
     "text": [
      "['Cancel By Passenger After Accept', 'Concurrent Request', 'Completed', 'Passenger Cancel Before Accept', 'Rejected', 'Driver & Dispatcher Cancellation', 'Unavailable']\n"
     ]
    },
    {
     "data": {
      "text/html": [
       "<div>\n",
       "<style scoped>\n",
       "    .dataframe tbody tr th:only-of-type {\n",
       "        vertical-align: middle;\n",
       "    }\n",
       "\n",
       "    .dataframe tbody tr th {\n",
       "        vertical-align: top;\n",
       "    }\n",
       "\n",
       "    .dataframe thead th {\n",
       "        text-align: right;\n",
       "    }\n",
       "</style>\n",
       "<table border=\"1\" class=\"dataframe\">\n",
       "  <thead>\n",
       "    <tr style=\"text-align: right;\">\n",
       "      <th></th>\n",
       "      <th>status_description</th>\n",
       "      <th>count</th>\n",
       "    </tr>\n",
       "  </thead>\n",
       "  <tbody>\n",
       "    <tr>\n",
       "      <th>0</th>\n",
       "      <td>Completed</td>\n",
       "      <td>3923005</td>\n",
       "    </tr>\n",
       "    <tr>\n",
       "      <th>1</th>\n",
       "      <td>Unavailable</td>\n",
       "      <td>2585817</td>\n",
       "    </tr>\n",
       "    <tr>\n",
       "      <th>2</th>\n",
       "      <td>Passenger Cancel Before Accept</td>\n",
       "      <td>1376812</td>\n",
       "    </tr>\n",
       "    <tr>\n",
       "      <th>3</th>\n",
       "      <td>Cancel By Passenger After Accept</td>\n",
       "      <td>1012955</td>\n",
       "    </tr>\n",
       "    <tr>\n",
       "      <th>4</th>\n",
       "      <td>Driver &amp; Dispatcher Cancellation</td>\n",
       "      <td>85667</td>\n",
       "    </tr>\n",
       "    <tr>\n",
       "      <th>5</th>\n",
       "      <td>Concurrent Request</td>\n",
       "      <td>20366</td>\n",
       "    </tr>\n",
       "    <tr>\n",
       "      <th>6</th>\n",
       "      <td>Rejected</td>\n",
       "      <td>279</td>\n",
       "    </tr>\n",
       "  </tbody>\n",
       "</table>\n",
       "</div>"
      ],
      "text/plain": [
       "                 status_description    count\n",
       "0                         Completed  3923005\n",
       "1                       Unavailable  2585817\n",
       "2    Passenger Cancel Before Accept  1376812\n",
       "3  Cancel By Passenger After Accept  1012955\n",
       "4  Driver & Dispatcher Cancellation    85667\n",
       "5                Concurrent Request    20366\n",
       "6                          Rejected      279"
      ]
     },
     "execution_count": 12,
     "metadata": {},
     "output_type": "execute_result"
    }
   ],
   "source": [
    "# check some column data\n",
    "print(df.select(\"status_description\").distinct().toPandas()[\"status_description\"].to_list())\n",
    "df.groupBy(\"status_description\").agg(countDistinct(\"tripid\").alias(\"count\")).sort(desc(\"count\")).toPandas().head(7)"
   ]
  },
  {
   "cell_type": "code",
   "execution_count": 13,
   "metadata": {},
   "outputs": [
    {
     "data": {
      "text/html": [
       "<div>\n",
       "<style scoped>\n",
       "    .dataframe tbody tr th:only-of-type {\n",
       "        vertical-align: middle;\n",
       "    }\n",
       "\n",
       "    .dataframe tbody tr th {\n",
       "        vertical-align: top;\n",
       "    }\n",
       "\n",
       "    .dataframe thead th {\n",
       "        text-align: right;\n",
       "    }\n",
       "</style>\n",
       "<table border=\"1\" class=\"dataframe\">\n",
       "  <thead>\n",
       "    <tr style=\"text-align: right;\">\n",
       "      <th></th>\n",
       "      <th>travel_status</th>\n",
       "      <th>status_description</th>\n",
       "    </tr>\n",
       "  </thead>\n",
       "  <tbody>\n",
       "    <tr>\n",
       "      <th>0</th>\n",
       "      <td>13</td>\n",
       "      <td>Concurrent Request</td>\n",
       "    </tr>\n",
       "    <tr>\n",
       "      <th>1</th>\n",
       "      <td>11</td>\n",
       "      <td>Rejected</td>\n",
       "    </tr>\n",
       "    <tr>\n",
       "      <th>2</th>\n",
       "      <td>4</td>\n",
       "      <td>Cancel By Passenger After Accept</td>\n",
       "    </tr>\n",
       "    <tr>\n",
       "      <th>3</th>\n",
       "      <td>12</td>\n",
       "      <td>Unavailable</td>\n",
       "    </tr>\n",
       "    <tr>\n",
       "      <th>4</th>\n",
       "      <td>1</td>\n",
       "      <td>Completed</td>\n",
       "    </tr>\n",
       "    <tr>\n",
       "      <th>5</th>\n",
       "      <td>8</td>\n",
       "      <td>Driver &amp; Dispatcher Cancellation</td>\n",
       "    </tr>\n",
       "    <tr>\n",
       "      <th>6</th>\n",
       "      <td>6</td>\n",
       "      <td>Passenger Cancel Before Accept</td>\n",
       "    </tr>\n",
       "  </tbody>\n",
       "</table>\n",
       "</div>"
      ],
      "text/plain": [
       "  travel_status                status_description\n",
       "0            13                Concurrent Request\n",
       "1            11                          Rejected\n",
       "2             4  Cancel By Passenger After Accept\n",
       "3            12                       Unavailable\n",
       "4             1                         Completed\n",
       "5             8  Driver & Dispatcher Cancellation\n",
       "6             6    Passenger Cancel Before Accept"
      ]
     },
     "execution_count": 13,
     "metadata": {},
     "output_type": "execute_result"
    }
   ],
   "source": [
    "# check relevant status for the description\n",
    "df.select(\"travel_status\", \"status_description\").distinct().toPandas().head(7)"
   ]
  },
  {
   "cell_type": "code",
   "execution_count": 14,
   "metadata": {},
   "outputs": [],
   "source": [
    "# filter only the completed trips - there are more null values for other travel status\n",
    "df = df.filter(df[\"travel_status\"] == 1)"
   ]
  },
  {
   "cell_type": "code",
   "execution_count": 15,
   "metadata": {},
   "outputs": [
    {
     "data": {
      "text/html": [
       "<div>\n",
       "<style scoped>\n",
       "    .dataframe tbody tr th:only-of-type {\n",
       "        vertical-align: middle;\n",
       "    }\n",
       "\n",
       "    .dataframe tbody tr th {\n",
       "        vertical-align: top;\n",
       "    }\n",
       "\n",
       "    .dataframe thead th {\n",
       "        text-align: right;\n",
       "    }\n",
       "</style>\n",
       "<table border=\"1\" class=\"dataframe\">\n",
       "  <thead>\n",
       "    <tr style=\"text-align: right;\">\n",
       "      <th></th>\n",
       "      <th>delay</th>\n",
       "      <th>created_date</th>\n",
       "      <th>pickup_date</th>\n",
       "      <th>distance</th>\n",
       "      <th>fare</th>\n",
       "      <th>discount</th>\n",
       "      <th>payment_method</th>\n",
       "      <th>taximodelid</th>\n",
       "      <th>travel_status</th>\n",
       "      <th>trip_fare</th>\n",
       "      <th>profile_created</th>\n",
       "      <th>status_description</th>\n",
       "      <th>pre_booked</th>\n",
       "      <th>passengerid</th>\n",
       "      <th>tripid</th>\n",
       "    </tr>\n",
       "  </thead>\n",
       "  <tbody>\n",
       "    <tr>\n",
       "      <th>0</th>\n",
       "      <td>0</td>\n",
       "      <td>0</td>\n",
       "      <td>0</td>\n",
       "      <td>1</td>\n",
       "      <td>1</td>\n",
       "      <td>1</td>\n",
       "      <td>0</td>\n",
       "      <td>0</td>\n",
       "      <td>0</td>\n",
       "      <td>1</td>\n",
       "      <td>0</td>\n",
       "      <td>0</td>\n",
       "      <td>0</td>\n",
       "      <td>0</td>\n",
       "      <td>0</td>\n",
       "    </tr>\n",
       "  </tbody>\n",
       "</table>\n",
       "</div>"
      ],
      "text/plain": [
       "   delay  created_date  pickup_date  distance  fare  discount  payment_method  \\\n",
       "0      0             0            0         1     1         1               0   \n",
       "\n",
       "   taximodelid  travel_status  trip_fare  profile_created  status_description  \\\n",
       "0            0              0          1                0                   0   \n",
       "\n",
       "   pre_booked  passengerid  tripid  \n",
       "0           0            0       0  "
      ]
     },
     "execution_count": 15,
     "metadata": {},
     "output_type": "execute_result"
    }
   ],
   "source": [
    "# check for nulls\n",
    "df.select([count(when(col(c).isNull(), c)).alias(c) for c in df.columns]).toPandas().head()"
   ]
  },
  {
   "cell_type": "code",
   "execution_count": 16,
   "metadata": {},
   "outputs": [],
   "source": [
    "# drop nulls\n",
    "df = df.na.drop()"
   ]
  },
  {
   "cell_type": "code",
   "execution_count": 17,
   "metadata": {},
   "outputs": [
    {
     "data": {
      "text/plain": [
       "463296"
      ]
     },
     "execution_count": 17,
     "metadata": {},
     "output_type": "execute_result"
    }
   ],
   "source": [
    "# check unique count of passenger ids after fitering data\n",
    "df.select(\"passengerid\").distinct().count()"
   ]
  },
  {
   "cell_type": "code",
   "execution_count": 18,
   "metadata": {},
   "outputs": [
    {
     "data": {
      "text/plain": [
       "['3', '24', '1', '10', '4', '2']"
      ]
     },
     "execution_count": 18,
     "metadata": {},
     "output_type": "execute_result"
    }
   ],
   "source": [
    "# check taximodeid column\n",
    "df.select(\"taximodelid\").distinct().toPandas()[\"taximodelid\"].to_list()"
   ]
  },
  {
   "cell_type": "code",
   "execution_count": 19,
   "metadata": {},
   "outputs": [],
   "source": [
    "# created new varibles as follows\n",
    "df = df.withColumn(\"trip_created_year\", df.created_date.substr(1, 4).cast(IntegerType()))\n",
    "df = df.withColumn(\"profile_created_year\", df.profile_created.substr(1, 4).cast(IntegerType()))\n",
    "df = df.withColumn(\"active_period\", col(\"trip_created_year\")-col(\"profile_created_year\"))\n",
    "df = df.withColumn(\"trip_created_month\", df.created_date.substr(5, 2).cast(IntegerType()))\n",
    "df = df.withColumn(\"profile_created_month\", df.created_date.substr(5, 2).cast(IntegerType()))"
   ]
  },
  {
   "cell_type": "code",
   "execution_count": 20,
   "metadata": {},
   "outputs": [
    {
     "name": "stdout",
     "output_type": "stream",
     "text": [
      "+-----------------+\n",
      "|trip_created_year|\n",
      "+-----------------+\n",
      "|             2019|\n",
      "+-----------------+\n",
      "\n",
      "+--------------------+\n",
      "|profile_created_year|\n",
      "+--------------------+\n",
      "|                2018|\n",
      "|                2015|\n",
      "|                2019|\n",
      "|                2016|\n",
      "|                2017|\n",
      "+--------------------+\n",
      "\n",
      "+------------------+\n",
      "|trip_created_month|\n",
      "+------------------+\n",
      "|                 6|\n",
      "|                 8|\n",
      "|                 7|\n",
      "+------------------+\n",
      "\n"
     ]
    }
   ],
   "source": [
    "# check some data\n",
    "df.select(\"trip_created_year\").distinct().show()\n",
    "df.select(\"profile_created_year\").distinct().show()\n",
    "df.select(\"trip_created_month\").distinct().show()"
   ]
  },
  {
   "cell_type": "code",
   "execution_count": 21,
   "metadata": {},
   "outputs": [],
   "source": [
    "# change data type \n",
    "df = df.withColumn(\"delay\", df[\"delay\"].cast(DoubleType()))\n",
    "df = df.withColumn(\"distance\", df[\"distance\"].cast(DoubleType()))\n",
    "df = df.withColumn(\"fare\", df[\"fare\"].cast(DoubleType()))\n",
    "df = df.withColumn(\"discount\", df[\"discount\"].cast(DoubleType()))\n",
    "df = df.withColumn(\"trip_fare\", df[\"trip_fare\"].cast(DoubleType()))"
   ]
  },
  {
   "cell_type": "markdown",
   "metadata": {},
   "source": [
    "### Exploratory Analysis"
   ]
  },
  {
   "cell_type": "code",
   "execution_count": 22,
   "metadata": {},
   "outputs": [
    {
     "data": {
      "image/png": "[encoded data removed]",
      "text/plain": [
       "<Figure size 720x360 with 1 Axes>"
      ]
     },
     "metadata": {
      "needs_background": "light"
     },
     "output_type": "display_data"
    }
   ],
   "source": [
    "# plot for taximodeid data\n",
    "taxi_mode = df.groupBy(\"taximodelid\").agg(countDistinct(\"tripid\").alias(\"count\")).sort([\"count\"], ascending=False)\\\n",
    ".toPandas()\n",
    "# remove null values\n",
    "taxi_mode = taxi_mode.dropna()\n",
    "# bar plot\n",
    "taxi_mode.plot(x=\"taximodelid\", y=\"count\", kind='bar', figsize=(10,5))\n",
    "plt.xlabel(\"taximodelid\")\n",
    "plt.ylabel(\"Number of trips\")\n",
    "plt.title(\"Number of trips by different taxi mode\")\n",
    "plt.show()"
   ]
  },
  {
   "cell_type": "code",
   "execution_count": 23,
   "metadata": {},
   "outputs": [
    {
     "data": {
      "image/png": "[encoded data removed]",
      "text/plain": [
       "<Figure size 720x360 with 1 Axes>"
      ]
     },
     "metadata": {
      "needs_background": "light"
     },
     "output_type": "display_data"
    }
   ],
   "source": [
    "# plot for payment methods\n",
    "payment_methods = df.groupBy(\"payment_method\").agg(countDistinct(\"tripid\").alias(\"count\"))\\\n",
    ".sort([\"count\"], ascending=False).toPandas()\n",
    "# remove null values\n",
    "payment_methods = payment_methods.dropna()\n",
    "# bar plot\n",
    "payment_methods.plot(x=\"payment_method\", y=\"count\", kind='bar', figsize=(10,5))\n",
    "plt.xlabel(\"Payment Method\")\n",
    "plt.ylabel(\"Number of trips\")\n",
    "plt.title(\"Number of trips for different payment methods\")\n",
    "plt.show()"
   ]
  },
  {
   "cell_type": "code",
   "execution_count": 24,
   "metadata": {},
   "outputs": [
    {
     "data": {
      "image/png": "[encoded data removed]",
      "text/plain": [
       "<Figure size 432x288 with 1 Axes>"
      ]
     },
     "metadata": {},
     "output_type": "display_data"
    }
   ],
   "source": [
    "# pie chart for pre_booked\n",
    "pre_booked_df = df.groupBy(\"pre_booked\").agg(countDistinct(\"tripid\").alias(\"count\")).toPandas()\n",
    "plt.pie(pre_booked_df[\"count\"],labels=[\"No_pre_booked\", \"Pre_booked\"],autopct='%1.1f%%')\n",
    "plt.title(\"Distribution of pre_booked trips\")\n",
    "plt.axis(\"equal\")\n",
    "plt.show()"
   ]
  },
  {
   "cell_type": "code",
   "execution_count": 25,
   "metadata": {},
   "outputs": [
    {
     "data": {
      "image/png": "[encoded data removed]",
      "text/plain": [
       "<Figure size 720x360 with 1 Axes>"
      ]
     },
     "metadata": {
      "needs_background": "light"
     },
     "output_type": "display_data"
    }
   ],
   "source": [
    "# plot for monthly trips\n",
    "month_trips = df.groupBy(\"trip_created_month\").agg(countDistinct(\"tripid\").alias(\"count\"))\\\n",
    ".sort([\"trip_created_month\"], ascending=True).toPandas()\n",
    "# bar plot\n",
    "month_trips.plot(x=\"trip_created_month\", y=\"count\", kind='bar', figsize=(10,5))\n",
    "plt.xlabel(\"Month\")\n",
    "plt.ylabel(\"Number of trips\")\n",
    "plt.title(\"Number of trips for each month in 2019\")\n",
    "plt.show()"
   ]
  },
  {
   "cell_type": "code",
   "execution_count": 26,
   "metadata": {},
   "outputs": [
    {
     "data": {
      "image/png": "[encoded data removed]",
      "text/plain": [
       "<Figure size 720x360 with 1 Axes>"
      ]
     },
     "metadata": {
      "needs_background": "light"
     },
     "output_type": "display_data"
    }
   ],
   "source": [
    "# plot for monthly fare\n",
    "month_fair_df = df.filter(df[\"pre_booked\"]==0).groupBy(\"trip_created_month\")\\\n",
    ".sum(\"trip_fare\").sort([\"trip_created_month\"], ascending=True).toPandas()\n",
    "# bar plot\n",
    "month_fair_df.plot(x=\"trip_created_month\", y=\"sum(trip_fare)\", kind='bar', figsize=(10,5))\n",
    "plt.xlabel(\"Month\")\n",
    "plt.ylabel(\"Total trip fare\")\n",
    "plt.title(\"Total trip fare for each month in 2019\")\n",
    "plt.show()"
   ]
  },
  {
   "cell_type": "code",
   "execution_count": 27,
   "metadata": {},
   "outputs": [
    {
     "data": {
      "image/png": "[encoded data removed]",
      "text/plain": [
       "<Figure size 720x360 with 1 Axes>"
      ]
     },
     "metadata": {
      "needs_background": "light"
     },
     "output_type": "display_data"
    }
   ],
   "source": [
    "# plot for monthly discount\n",
    "month_fair_df = df.filter(df[\"pre_booked\"]==0).groupBy(\"trip_created_month\")\\\n",
    ".sum(\"discount\").sort([\"trip_created_month\"], ascending=True).toPandas()\n",
    "# bar plot\n",
    "month_fair_df.plot(x=\"trip_created_month\", y=\"sum(discount)\", kind='bar', figsize=(10,5))\n",
    "plt.xlabel(\"Month\")\n",
    "plt.ylabel(\"Total trip discount\")\n",
    "plt.title(\"Total trip discount for each month in 2019\")\n",
    "plt.show()"
   ]
  },
  {
   "cell_type": "markdown",
   "metadata": {},
   "source": [
    "### Feature Engineering"
   ]
  },
  {
   "cell_type": "code",
   "execution_count": 28,
   "metadata": {},
   "outputs": [],
   "source": [
    "# filter variables\n",
    "df = df.select(\"passengerid\", \"tripid\", \"profile_created\", \"created_date\", \"profile_created_month\",\n",
    "              \"trip_created_month\", \"active_period\", \"delay\", \"distance\", \"fare\", \"discount\", \"trip_fare\")"
   ]
  },
  {
   "cell_type": "code",
   "execution_count": 29,
   "metadata": {},
   "outputs": [],
   "source": [
    "# get each month total trips\n",
    "df_new = df.groupBy([\"passengerid\", \"profile_created_month\", \"trip_created_month\", \"active_period\", \"delay\", \n",
    "                     \"distance\", \"fare\", \"discount\", \"trip_fare\"]).agg(countDistinct(\"tripid\").alias(\"trip_count\"))"
   ]
  },
  {
   "cell_type": "code",
   "execution_count": 30,
   "metadata": {},
   "outputs": [
    {
     "name": "stdout",
     "output_type": "stream",
     "text": [
      "+-----------+---------------------+------------------+-------------+-----+--------+------+--------+---------+----------+\n",
      "|passengerid|profile_created_month|trip_created_month|active_period|delay|distance|  fare|discount|trip_fare|trip_count|\n",
      "+-----------+---------------------+------------------+-------------+-----+--------+------+--------+---------+----------+\n",
      "|     215220|                    7|                 7|            0| 5.43|   10.16|406.97|     0.0|   406.97|         1|\n",
      "|     220276|                    6|                 6|            0| 3.63|    2.58|119.12|     0.0|   119.12|         1|\n",
      "|     242871|                    6|                 6|            3| 6.05|   11.92|460.68|     0.0|   460.68|         1|\n",
      "|     271529|                    8|                 8|            1|14.67|   11.14|472.56|     0.0|   472.56|         1|\n",
      "|     292127|                    6|                 6|            2|  5.1|    2.22|115.48|     0.0|   115.48|         1|\n",
      "+-----------+---------------------+------------------+-------------+-----+--------+------+--------+---------+----------+\n",
      "only showing top 5 rows\n",
      "\n"
     ]
    }
   ],
   "source": [
    "# check data\n",
    "df_new.show(5)"
   ]
  },
  {
   "cell_type": "code",
   "execution_count": 31,
   "metadata": {},
   "outputs": [
    {
     "name": "stdout",
     "output_type": "stream",
     "text": [
      "root\n",
      " |-- passengerid: string (nullable = true)\n",
      " |-- profile_created_month: integer (nullable = true)\n",
      " |-- trip_created_month: integer (nullable = true)\n",
      " |-- active_period: integer (nullable = true)\n",
      " |-- delay: double (nullable = true)\n",
      " |-- distance: double (nullable = true)\n",
      " |-- fare: double (nullable = true)\n",
      " |-- discount: double (nullable = true)\n",
      " |-- trip_fare: double (nullable = true)\n",
      " |-- trip_count: long (nullable = false)\n",
      "\n"
     ]
    }
   ],
   "source": [
    "# columns in filtered dataset\n",
    "df_new.printSchema()"
   ]
  },
  {
   "cell_type": "code",
   "execution_count": 32,
   "metadata": {},
   "outputs": [
    {
     "data": {
      "text/plain": [
       "3922873"
      ]
     },
     "execution_count": 32,
     "metadata": {},
     "output_type": "execute_result"
    }
   ],
   "source": [
    "# number of rows\n",
    "df_new.count()"
   ]
  },
  {
   "cell_type": "code",
   "execution_count": 33,
   "metadata": {},
   "outputs": [
    {
     "data": {
      "text/plain": [
       "463296"
      ]
     },
     "execution_count": 33,
     "metadata": {},
     "output_type": "execute_result"
    }
   ],
   "source": [
    "# check unique count of passenger ids after fitering data\n",
    "df_new.select(\"passengerid\").distinct().count()"
   ]
  },
  {
   "cell_type": "code",
   "execution_count": 34,
   "metadata": {},
   "outputs": [],
   "source": [
    "# remove newly created customers(porfile created in August) - there are few trips when its created in August\n",
    "df_new = df_new.filter(~((df_new[\"active_period\"] == 0) & (df_new[\"profile_created_month\"] == 8)))"
   ]
  },
  {
   "cell_type": "code",
   "execution_count": 35,
   "metadata": {},
   "outputs": [
    {
     "data": {
      "text/plain": [
       "409353"
      ]
     },
     "execution_count": 35,
     "metadata": {},
     "output_type": "execute_result"
    }
   ],
   "source": [
    "# check unique count of passenger ids after fitering data\n",
    "df_new.select(\"passengerid\").distinct().count()"
   ]
  },
  {
   "cell_type": "code",
   "execution_count": 36,
   "metadata": {},
   "outputs": [
    {
     "name": "stdout",
     "output_type": "stream",
     "text": [
      "+------------------+---------------+\n",
      "|trip_created_month|min(trip_count)|\n",
      "+------------------+---------------+\n",
      "|                 6|              1|\n",
      "|                 8|              1|\n",
      "|                 7|              1|\n",
      "+------------------+---------------+\n",
      "\n",
      "+------------------+---------------+\n",
      "|trip_created_month|max(trip_count)|\n",
      "+------------------+---------------+\n",
      "|                 6|              7|\n",
      "|                 8|              3|\n",
      "|                 7|              6|\n",
      "+------------------+---------------+\n",
      "\n",
      "+------------------+------------------+\n",
      "|trip_created_month|   avg(trip_count)|\n",
      "+------------------+------------------+\n",
      "|                 6|1.0000473894434374|\n",
      "|                 8| 1.000018126652314|\n",
      "|                 7|1.0000322482056438|\n",
      "+------------------+------------------+\n",
      "\n"
     ]
    }
   ],
   "source": [
    "# check min, max and average trips for each month\n",
    "df_new.groupBy(\"trip_created_month\").min(\"trip_count\").show()\n",
    "df_new.groupBy(\"trip_created_month\").max(\"trip_count\").show()\n",
    "df_new.groupBy(\"trip_created_month\").avg(\"trip_count\").show()"
   ]
  },
  {
   "cell_type": "markdown",
   "metadata": {},
   "source": [
    "### Problem statement(how to define a customer has ‘churned’)\n",
    "\n",
    "#### If there are trips for each customer last month(August), there is no dormant/churn for next month. "
   ]
  },
  {
   "cell_type": "code",
   "execution_count": 37,
   "metadata": {},
   "outputs": [],
   "source": [
    "# filter passengers who went trips last month(August)\n",
    "df_new1 = df_new.filter(df_new[\"trip_created_month\"] == 8).select(\"passengerid\").drop_duplicates()\n",
    "# add new column as churn and marked values as \"No\" churn\n",
    "df_new1 = df_new1.withColumn(\"churn\",  lit(\"No\"))"
   ]
  },
  {
   "cell_type": "code",
   "execution_count": 38,
   "metadata": {},
   "outputs": [
    {
     "name": "stdout",
     "output_type": "stream",
     "text": [
      "+-----------+-----+\n",
      "|passengerid|churn|\n",
      "+-----------+-----+\n",
      "|      36526|   No|\n",
      "|     420275|   No|\n",
      "|     379041|   No|\n",
      "|        675|   No|\n",
      "|     392800|   No|\n",
      "+-----------+-----+\n",
      "only showing top 5 rows\n",
      "\n",
      "160110\n",
      "160110\n"
     ]
    }
   ],
   "source": [
    "# check data for above filtered set\n",
    "df_new1.show(5)\n",
    "print(df_new1.select(\"passengerid\").distinct().count())\n",
    "print(df_new1.count())"
   ]
  },
  {
   "cell_type": "code",
   "execution_count": 39,
   "metadata": {},
   "outputs": [],
   "source": [
    "# group data based on passenger id and get sum of each column\n",
    "df_new2 = df_new.groupBy(\"passengerid\").sum(\"trip_count\",\"delay\", \"distance\", \"fare\", \"discount\", \"trip_fare\")"
   ]
  },
  {
   "cell_type": "code",
   "execution_count": 40,
   "metadata": {},
   "outputs": [],
   "source": [
    "# round off values of columns\n",
    "df_new2 = df_new2.withColumn(\"sum_delay\", round(col(\"sum(delay)\"),2))\n",
    "df_new2 = df_new2.withColumn(\"sum_distance\", round(col(\"sum(distance)\"),2))\n",
    "df_new2 = df_new2.withColumn(\"sum_fare\", round(col(\"sum(fare)\"),2))\n",
    "df_new2 = df_new2.withColumn(\"sum_discount\", round(col(\"sum(discount)\"),2))\n",
    "df_new2 = df_new2.withColumn(\"sum_trip_fare\", round(col(\"sum(trip_fare)\"),2))\n",
    "# rename a column\n",
    "df_new2 = df_new2.withColumnRenamed(\"sum(trip_count)\", \"total_trip_count\")\n",
    "\n",
    "# filter data\n",
    "df_new2 = df_new2.select(\"passengerid\", \"total_trip_count\", \"sum_delay\", \"sum_distance\",\"sum_fare\",\n",
    "                         \"sum_discount\", \"sum_trip_fare\")"
   ]
  },
  {
   "cell_type": "code",
   "execution_count": 41,
   "metadata": {},
   "outputs": [
    {
     "name": "stdout",
     "output_type": "stream",
     "text": [
      "+-----------+----------------+---------+------------+--------+------------+-------------+\n",
      "|passengerid|total_trip_count|sum_delay|sum_distance|sum_fare|sum_discount|sum_trip_fare|\n",
      "+-----------+----------------+---------+------------+--------+------------+-------------+\n",
      "|      60070|               7|    24.17|       42.16|  1705.0|         0.0|       1705.0|\n",
      "|     264845|               5|   103.03|       82.16| 4209.72|         0.0|      4209.72|\n",
      "|     480004|               5|    60.37|       42.98| 2366.28|       200.0|      2166.27|\n",
      "|     179486|              39|   313.96|      116.96| 5962.37|        50.0|      5912.37|\n",
      "|        467|               9|   118.38|       75.35| 3939.15|         0.0|      3939.15|\n",
      "+-----------+----------------+---------+------------+--------+------------+-------------+\n",
      "only showing top 5 rows\n",
      "\n",
      "409353\n",
      "409353\n"
     ]
    }
   ],
   "source": [
    "# check data\n",
    "df_new2.show(5)\n",
    "print(df_new2.select(\"passengerid\").distinct().count())\n",
    "print(df_new2.count())"
   ]
  },
  {
   "cell_type": "code",
   "execution_count": 42,
   "metadata": {},
   "outputs": [],
   "source": [
    "df = df.filter(~((df[\"active_period\"] == 0) & (df[\"profile_created_month\"] == 8)))\n",
    "# get total trip count for August, June and July \n",
    "df_new_august = df.filter(df[\"trip_created_month\"] == 8).groupBy(\"passengerid\").agg(countDistinct(\"tripid\")\\\n",
    "                                                                                    .alias(\"august_trip_count\"))\n",
    "df_new_july = df.filter(df[\"trip_created_month\"] == 7).groupBy(\"passengerid\").agg(countDistinct(\"tripid\")\\\n",
    "                                                                                      .alias(\"july_trip_count\"))\n",
    "df_new_june = df.filter(df[\"trip_created_month\"] == 6).groupBy(\"passengerid\").agg(countDistinct(\"tripid\")\\\n",
    "                                                                                      .alias(\"june_trip_count\"))"
   ]
  },
  {
   "cell_type": "code",
   "execution_count": 43,
   "metadata": {},
   "outputs": [
    {
     "name": "stdout",
     "output_type": "stream",
     "text": [
      "160110\n",
      "286931\n",
      "280029\n"
     ]
    }
   ],
   "source": [
    "# check data\n",
    "print(df_new_august.count())\n",
    "print(df_new_july.count())\n",
    "print(df_new_june.count())"
   ]
  },
  {
   "cell_type": "code",
   "execution_count": 44,
   "metadata": {},
   "outputs": [],
   "source": [
    "# merge data \n",
    "final_df = df_new2.join(df_new1, on=[\"passengerid\"], how=\"left\")\n",
    "final_df = final_df.join(df_new_august, on=[\"passengerid\"], how=\"left\")\n",
    "final_df = final_df.join(df_new_july, on=[\"passengerid\"], how=\"left\")\n",
    "final_df = final_df.join(df_new_june, on=[\"passengerid\"], how=\"left\")\n",
    "# fill null values of churn column as \"Yes\" \n",
    "final_df = final_df.fillna(\"Yes\", subset=[\"churn\"])\n",
    "# fill null values as 0\n",
    "final_df = final_df.fillna(0, subset=[\"august_trip_count\", \"july_trip_count\", \"june_trip_count\"])"
   ]
  },
  {
   "cell_type": "code",
   "execution_count": 45,
   "metadata": {},
   "outputs": [
    {
     "name": "stdout",
     "output_type": "stream",
     "text": [
      "+-----------+----------------+---------+------------+--------+------------+-------------+-----+-----------------+---------------+---------------+\n",
      "|passengerid|total_trip_count|sum_delay|sum_distance|sum_fare|sum_discount|sum_trip_fare|churn|august_trip_count|july_trip_count|june_trip_count|\n",
      "+-----------+----------------+---------+------------+--------+------------+-------------+-----+-----------------+---------------+---------------+\n",
      "|     100010|              28|   279.58|      205.86|10264.76|         0.0|     10264.76|   No|               13|              9|              6|\n",
      "|     100140|               2|     8.88|        6.68|  315.55|         0.0|       315.55|  Yes|                0|              2|              0|\n",
      "|     100227|               5|    30.77|       29.29| 1187.39|       150.0|      1037.37|  Yes|                0|              3|              2|\n",
      "|     100263|               2|     0.58|        1.34|  113.82|         0.0|       113.82|  Yes|                0|              1|              1|\n",
      "|     100553|               1|     8.72|        8.23|  314.81|         0.0|       314.81|  Yes|                0|              0|              1|\n",
      "+-----------+----------------+---------+------------+--------+------------+-------------+-----+-----------------+---------------+---------------+\n",
      "only showing top 5 rows\n",
      "\n",
      "409353\n",
      "409353\n"
     ]
    }
   ],
   "source": [
    "# check data\n",
    "final_df.show(5)\n",
    "print(final_df.count())\n",
    "print(final_df.select(\"passengerid\").distinct().count())"
   ]
  },
  {
   "cell_type": "code",
   "execution_count": 46,
   "metadata": {},
   "outputs": [
    {
     "data": {
      "text/html": [
       "<div>\n",
       "<style scoped>\n",
       "    .dataframe tbody tr th:only-of-type {\n",
       "        vertical-align: middle;\n",
       "    }\n",
       "\n",
       "    .dataframe tbody tr th {\n",
       "        vertical-align: top;\n",
       "    }\n",
       "\n",
       "    .dataframe thead th {\n",
       "        text-align: right;\n",
       "    }\n",
       "</style>\n",
       "<table border=\"1\" class=\"dataframe\">\n",
       "  <thead>\n",
       "    <tr style=\"text-align: right;\">\n",
       "      <th></th>\n",
       "      <th>churn</th>\n",
       "      <th>count</th>\n",
       "    </tr>\n",
       "  </thead>\n",
       "  <tbody>\n",
       "    <tr>\n",
       "      <th>0</th>\n",
       "      <td>No</td>\n",
       "      <td>160110</td>\n",
       "    </tr>\n",
       "    <tr>\n",
       "      <th>1</th>\n",
       "      <td>Yes</td>\n",
       "      <td>249243</td>\n",
       "    </tr>\n",
       "  </tbody>\n",
       "</table>\n",
       "</div>"
      ],
      "text/plain": [
       "  churn   count\n",
       "0    No  160110\n",
       "1   Yes  249243"
      ]
     },
     "execution_count": 46,
     "metadata": {},
     "output_type": "execute_result"
    }
   ],
   "source": [
    "# check data distibution for churn column\n",
    "final_df.groupBy(\"churn\").agg(countDistinct(\"passengerid\").alias(\"count\")).toPandas().head()"
   ]
  },
  {
   "cell_type": "code",
   "execution_count": 47,
   "metadata": {},
   "outputs": [
    {
     "data": {
      "image/png": "[encoded data removed]",
      "text/plain": [
       "<Figure size 432x288 with 1 Axes>"
      ]
     },
     "metadata": {},
     "output_type": "display_data"
    }
   ],
   "source": [
    "# draw a pie chart\n",
    "churn_df = final_df.groupBy(\"churn\").agg(countDistinct(\"passengerid\").alias(\"count\")).toPandas()\n",
    "plt.pie(churn_df[\"count\"],labels=[\"No\",\"Yes\"],autopct='%1.1f%%')\n",
    "plt.title(\"Customer Churn Distribution\")\n",
    "plt.axis(\"equal\")\n",
    "plt.show()"
   ]
  },
  {
   "cell_type": "code",
   "execution_count": 48,
   "metadata": {},
   "outputs": [],
   "source": [
    "# write filtered data into a csv\n",
    "final_df.toPandas().to_csv(\"data/filetered_churn_data.csv\")"
   ]
  }
 ],
 "metadata": {
  "kernelspec": {
   "display_name": "Python 3",
   "language": "python",
   "name": "python3"
  },
  "language_info": {
   "codemirror_mode": {
    "name": "ipython",
    "version": 3
   },
   "file_extension": ".py",
   "mimetype": "text/x-python",
   "name": "python",
   "nbconvert_exporter": "python",
   "pygments_lexer": "ipython3",
   "version": "3.6.9"
  }
 },
 "nbformat": 4,
 "nbformat_minor": 4
}
